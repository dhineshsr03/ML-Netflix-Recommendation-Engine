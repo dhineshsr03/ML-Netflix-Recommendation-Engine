{
 "cells": [
  {
   "cell_type": "markdown",
   "id": "3c086f3e-02bd-4455-a9fb-8dce6ce1539b",
   "metadata": {},
   "source": [
    "**Template for ML Projects - STEPS for Reference**\n",
    "1. Define the Problem\n",
    "Objective: Clearly define the problem you want to solve.\n",
    "Outcome: Determine the outcome you want to predict (e.g., classification, regression).\n",
    "2. Data Collection\n",
    "Gather Data: Collect data from various sources.\n",
    "Data Relevance: Ensure the data is relevant to the problem.\n",
    "3. Data Exploration and Cleaning\n",
    "Exploratory Data Analysis (EDA): Use statistical summaries and visualization techniques to understand the data.\n",
    "Handle Missing Values: Impute or remove missing values.\n",
    "Remove Outliers: Identify and handle outliers.\n",
    "Feature Engineering: Create new features from existing data if necessary.\n",
    "4. Data Preprocessing\n",
    "Data Transformation: Normalize or standardize the data.\n",
    "Encoding Categorical Variables: Convert categorical data to numerical values (e.g., one-hot encoding).\n",
    "Feature Scaling: Scale features to ensure they contribute equally to the model.\n",
    "5. Feature Selection\n",
    "Select Relevant Features: Choose the most relevant features that contribute to the predictive power of the model.(**Features Selection**\n",
    "1. VIF - Variance Inflation Factor\n",
    "2. RFE - Recursive Feature Engineering)\n",
    "Dimensionality Reduction: Apply techniques like PCA if needed.\n",
    "6. Data Splitting\n",
    "Train-Test Split: Split the data into training and testing sets.\n",
    "Cross-Validation: Further split the training set into folds for cross-validation to ensure the model's generalizability.\n",
    "7. Choose a Model\n",
    "Model Selection: Choose the appropriate machine learning algorithm(s) based on the problem and data characteristics.\n",
    "Baseline Model: Start with a simple model to set a baseline for performance.\n",
    "8. Model Training\n",
    "Train the Model: Fit the model to the training data.\n",
    "Hyperparameter Tuning: Optimize hyperparameters using techniques like grid search or random search.\n",
    "9. Model Evaluation\n",
    "Evaluate on Test Set: Assess the model's performance on the test data.\n",
    "Performance Metrics: Use appropriate metrics (e.g., accuracy, precision, recall, F1 score, RMSE) to evaluate the model.\n"
   ]
  },
  {
   "cell_type": "markdown",
   "id": "734fd04d-22d9-416d-913f-ccb6ce928b63",
   "metadata": {},
   "source": [
    "**Importing Required Libraries**"
   ]
  },
  {
   "cell_type": "code",
   "execution_count": 1,
   "id": "25651794-b43a-4c80-a4af-9b801a02f6ef",
   "metadata": {},
   "outputs": [],
   "source": [
    "import numpy as np\n",
    "import pandas as pd\n",
    "import matplotlib.pyplot as plt\n",
    "import seaborn as sns\n",
    "\n",
    "import warnings\n",
    "warnings.filterwarnings(\"ignore\")\n"
   ]
  },
  {
   "cell_type": "markdown",
   "id": "b6b65572-7867-4d00-b971-7e3bc7c7dc53",
   "metadata": {},
   "source": [
    "**Load Data**"
   ]
  },
  {
   "cell_type": "code",
   "execution_count": 2,
   "id": "b420ebfe-ac02-4209-bf3a-8bb9cb0184ec",
   "metadata": {},
   "outputs": [],
   "source": [
    "# Reading dataset file\n",
    "netflix_dataset = pd.read_csv(\"C:/Users/dhine/Desktop/ML/Projects/02 Self Project 1 - Netflix Recommendation/combined_data_1.txt\", names = ['Cust_Id', 'Rating'], usecols = [0,1])"
   ]
  },
  {
   "cell_type": "code",
   "execution_count": 3,
   "id": "d1e7b9eb-41ff-4d4c-bdc2-e0c2fedfe574",
   "metadata": {},
   "outputs": [
    {
     "data": {
      "text/html": [
       "<div>\n",
       "<style scoped>\n",
       "    .dataframe tbody tr th:only-of-type {\n",
       "        vertical-align: middle;\n",
       "    }\n",
       "\n",
       "    .dataframe tbody tr th {\n",
       "        vertical-align: top;\n",
       "    }\n",
       "\n",
       "    .dataframe thead th {\n",
       "        text-align: right;\n",
       "    }\n",
       "</style>\n",
       "<table border=\"1\" class=\"dataframe\">\n",
       "  <thead>\n",
       "    <tr style=\"text-align: right;\">\n",
       "      <th></th>\n",
       "      <th>Cust_Id</th>\n",
       "      <th>Rating</th>\n",
       "    </tr>\n",
       "  </thead>\n",
       "  <tbody>\n",
       "    <tr>\n",
       "      <th>0</th>\n",
       "      <td>1:</td>\n",
       "      <td>NaN</td>\n",
       "    </tr>\n",
       "    <tr>\n",
       "      <th>1</th>\n",
       "      <td>1488844</td>\n",
       "      <td>3.0</td>\n",
       "    </tr>\n",
       "    <tr>\n",
       "      <th>2</th>\n",
       "      <td>822109</td>\n",
       "      <td>5.0</td>\n",
       "    </tr>\n",
       "    <tr>\n",
       "      <th>3</th>\n",
       "      <td>885013</td>\n",
       "      <td>4.0</td>\n",
       "    </tr>\n",
       "    <tr>\n",
       "      <th>4</th>\n",
       "      <td>30878</td>\n",
       "      <td>4.0</td>\n",
       "    </tr>\n",
       "    <tr>\n",
       "      <th>...</th>\n",
       "      <td>...</td>\n",
       "      <td>...</td>\n",
       "    </tr>\n",
       "    <tr>\n",
       "      <th>24058258</th>\n",
       "      <td>2591364</td>\n",
       "      <td>2.0</td>\n",
       "    </tr>\n",
       "    <tr>\n",
       "      <th>24058259</th>\n",
       "      <td>1791000</td>\n",
       "      <td>2.0</td>\n",
       "    </tr>\n",
       "    <tr>\n",
       "      <th>24058260</th>\n",
       "      <td>512536</td>\n",
       "      <td>5.0</td>\n",
       "    </tr>\n",
       "    <tr>\n",
       "      <th>24058261</th>\n",
       "      <td>988963</td>\n",
       "      <td>3.0</td>\n",
       "    </tr>\n",
       "    <tr>\n",
       "      <th>24058262</th>\n",
       "      <td>1704416</td>\n",
       "      <td>3.0</td>\n",
       "    </tr>\n",
       "  </tbody>\n",
       "</table>\n",
       "<p>24058263 rows × 2 columns</p>\n",
       "</div>"
      ],
      "text/plain": [
       "          Cust_Id  Rating\n",
       "0              1:     NaN\n",
       "1         1488844     3.0\n",
       "2          822109     5.0\n",
       "3          885013     4.0\n",
       "4           30878     4.0\n",
       "...           ...     ...\n",
       "24058258  2591364     2.0\n",
       "24058259  1791000     2.0\n",
       "24058260   512536     5.0\n",
       "24058261   988963     3.0\n",
       "24058262  1704416     3.0\n",
       "\n",
       "[24058263 rows x 2 columns]"
      ]
     },
     "execution_count": 3,
     "metadata": {},
     "output_type": "execute_result"
    }
   ],
   "source": [
    "netflix_dataset"
   ]
  },
  {
   "cell_type": "code",
   "execution_count": 4,
   "id": "a716e8d4-32f9-4f89-b4c7-691fea1004fe",
   "metadata": {},
   "outputs": [
    {
     "name": "stdout",
     "output_type": "stream",
     "text": [
      "<class 'pandas.core.frame.DataFrame'>\n",
      "RangeIndex: 24058263 entries, 0 to 24058262\n",
      "Data columns (total 2 columns):\n",
      " #   Column   Dtype  \n",
      "---  ------   -----  \n",
      " 0   Cust_Id  object \n",
      " 1   Rating   float64\n",
      "dtypes: float64(1), object(1)\n",
      "memory usage: 367.1+ MB\n"
     ]
    }
   ],
   "source": [
    "netflix_dataset.info()"
   ]
  },
  {
   "cell_type": "code",
   "execution_count": 5,
   "id": "80d5d222-ca7b-4bbe-b9ae-7af51c4352ae",
   "metadata": {},
   "outputs": [
    {
     "data": {
      "text/plain": [
       "Cust_Id     object\n",
       "Rating     float64\n",
       "dtype: object"
      ]
     },
     "execution_count": 5,
     "metadata": {},
     "output_type": "execute_result"
    }
   ],
   "source": [
    "netflix_dataset.dtypes"
   ]
  },
  {
   "cell_type": "code",
   "execution_count": 6,
   "id": "88232a2b-6593-4731-8ffd-9ed98e44e5f0",
   "metadata": {},
   "outputs": [
    {
     "data": {
      "text/plain": [
       "(24058263, 2)"
      ]
     },
     "execution_count": 6,
     "metadata": {},
     "output_type": "execute_result"
    }
   ],
   "source": [
    "netflix_dataset.shape"
   ]
  },
  {
   "cell_type": "code",
   "execution_count": 7,
   "id": "ca0e3d05-4699-418d-9d15-ab616ebd4390",
   "metadata": {},
   "outputs": [
    {
     "data": {
      "text/plain": [
       "4499"
      ]
     },
     "execution_count": 7,
     "metadata": {},
     "output_type": "execute_result"
    }
   ],
   "source": [
    "#get the movie count count with NaN values\n",
    "movie_count=netflix_dataset.isnull().sum()\n",
    "movie_count = movie_count.values[1]\n",
    "movie_count"
   ]
  },
  {
   "cell_type": "code",
   "execution_count": 8,
   "id": "34096080-e3e9-4e84-baf7-cb3f8b9ab9cb",
   "metadata": {},
   "outputs": [],
   "source": [
    "#to calculate how many customers we are having in the dataset\n",
    "customer_count=netflix_dataset['Cust_Id'].nunique()"
   ]
  },
  {
   "cell_type": "code",
   "execution_count": 9,
   "id": "f60ab59e-d336-49db-9b4f-132a26aff4b7",
   "metadata": {},
   "outputs": [
    {
     "data": {
      "text/plain": [
       "475257"
      ]
     },
     "execution_count": 9,
     "metadata": {},
     "output_type": "execute_result"
    }
   ],
   "source": [
    "customer_count"
   ]
  },
  {
   "cell_type": "code",
   "execution_count": 10,
   "id": "f8569c55-14d9-4950-a323-db57ec92cb5c",
   "metadata": {},
   "outputs": [
    {
     "data": {
      "text/plain": [
       "470758"
      ]
     },
     "execution_count": 10,
     "metadata": {},
     "output_type": "execute_result"
    }
   ],
   "source": [
    "#without NaN values\n",
    "customer_count=netflix_dataset['Cust_Id'].nunique()-movie_count\n",
    "customer_count"
   ]
  },
  {
   "cell_type": "code",
   "execution_count": 11,
   "id": "c3765dd0-b57c-4f2e-a9e3-537b929a09ab",
   "metadata": {},
   "outputs": [
    {
     "data": {
      "text/plain": [
       "24053764"
      ]
     },
     "execution_count": 11,
     "metadata": {},
     "output_type": "execute_result"
    }
   ],
   "source": [
    "#get the total number of ratings given by the customers\n",
    "rating_count=netflix_dataset['Cust_Id'].count()-movie_count\n",
    "rating_count"
   ]
  },
  {
   "cell_type": "code",
   "execution_count": 12,
   "id": "8629e294-473a-4466-b19f-0a31e01078e9",
   "metadata": {},
   "outputs": [],
   "source": [
    "#To find out how many people have rated the movies as 1, 2, 3,4,5 stars ratings to the movies\n",
    "stars=netflix_dataset.groupby('Rating')['Rating'].agg(['count'])"
   ]
  },
  {
   "cell_type": "code",
   "execution_count": 13,
   "id": "22050e55-0645-4ae5-a712-e4a4ed7abb23",
   "metadata": {},
   "outputs": [
    {
     "data": {
      "text/html": [
       "<div>\n",
       "<style scoped>\n",
       "    .dataframe tbody tr th:only-of-type {\n",
       "        vertical-align: middle;\n",
       "    }\n",
       "\n",
       "    .dataframe tbody tr th {\n",
       "        vertical-align: top;\n",
       "    }\n",
       "\n",
       "    .dataframe thead th {\n",
       "        text-align: right;\n",
       "    }\n",
       "</style>\n",
       "<table border=\"1\" class=\"dataframe\">\n",
       "  <thead>\n",
       "    <tr style=\"text-align: right;\">\n",
       "      <th></th>\n",
       "      <th>count</th>\n",
       "    </tr>\n",
       "    <tr>\n",
       "      <th>Rating</th>\n",
       "      <th></th>\n",
       "    </tr>\n",
       "  </thead>\n",
       "  <tbody>\n",
       "    <tr>\n",
       "      <th>1.0</th>\n",
       "      <td>1118186</td>\n",
       "    </tr>\n",
       "    <tr>\n",
       "      <th>2.0</th>\n",
       "      <td>2439073</td>\n",
       "    </tr>\n",
       "    <tr>\n",
       "      <th>3.0</th>\n",
       "      <td>6904181</td>\n",
       "    </tr>\n",
       "    <tr>\n",
       "      <th>4.0</th>\n",
       "      <td>8085741</td>\n",
       "    </tr>\n",
       "    <tr>\n",
       "      <th>5.0</th>\n",
       "      <td>5506583</td>\n",
       "    </tr>\n",
       "  </tbody>\n",
       "</table>\n",
       "</div>"
      ],
      "text/plain": [
       "          count\n",
       "Rating         \n",
       "1.0     1118186\n",
       "2.0     2439073\n",
       "3.0     6904181\n",
       "4.0     8085741\n",
       "5.0     5506583"
      ]
     },
     "execution_count": 13,
     "metadata": {},
     "output_type": "execute_result"
    }
   ],
   "source": [
    "stars"
   ]
  },
  {
   "cell_type": "code",
   "execution_count": 14,
   "id": "c08c9d94-d654-4ea9-b57a-f8d4cfe0a1ca",
   "metadata": {},
   "outputs": [
    {
     "data": {
      "image/png": "[encoded data removed]",
      "text/plain": [
       "<Figure size 1500x1000 with 1 Axes>"
      ]
     },
     "metadata": {},
     "output_type": "display_data"
    }
   ],
   "source": [
    "ax=stars.plot(kind='barh', legend=True, figsize=(15,10))\n",
    "plt.title(f'Total pool: {movie_count} Movies, {customer_count} Customers, {rating_count} ratings given', fontsize=20)\n",
    "plt.grid(True)"
   ]
  },
  {
   "cell_type": "code",
   "execution_count": 15,
   "id": "b1e4322b-5c85-4d77-ad73-92b1ac900218",
   "metadata": {},
   "outputs": [],
   "source": [
    "#add another column that will have movie id\n",
    "#first of all we will be calculating how many null values we are having in the ratings column\n",
    "df_nan=pd.DataFrame(pd.isnull(netflix_dataset.Rating))"
   ]
  },
  {
   "cell_type": "code",
   "execution_count": 16,
   "id": "d04269a3-9307-4e1b-b1fb-ba0c577d1f97",
   "metadata": {},
   "outputs": [
    {
     "data": {
      "text/html": [
       "<div>\n",
       "<style scoped>\n",
       "    .dataframe tbody tr th:only-of-type {\n",
       "        vertical-align: middle;\n",
       "    }\n",
       "\n",
       "    .dataframe tbody tr th {\n",
       "        vertical-align: top;\n",
       "    }\n",
       "\n",
       "    .dataframe thead th {\n",
       "        text-align: right;\n",
       "    }\n",
       "</style>\n",
       "<table border=\"1\" class=\"dataframe\">\n",
       "  <thead>\n",
       "    <tr style=\"text-align: right;\">\n",
       "      <th></th>\n",
       "      <th>Rating</th>\n",
       "    </tr>\n",
       "  </thead>\n",
       "  <tbody>\n",
       "    <tr>\n",
       "      <th>0</th>\n",
       "      <td>True</td>\n",
       "    </tr>\n",
       "    <tr>\n",
       "      <th>1</th>\n",
       "      <td>False</td>\n",
       "    </tr>\n",
       "    <tr>\n",
       "      <th>2</th>\n",
       "      <td>False</td>\n",
       "    </tr>\n",
       "    <tr>\n",
       "      <th>3</th>\n",
       "      <td>False</td>\n",
       "    </tr>\n",
       "    <tr>\n",
       "      <th>4</th>\n",
       "      <td>False</td>\n",
       "    </tr>\n",
       "    <tr>\n",
       "      <th>...</th>\n",
       "      <td>...</td>\n",
       "    </tr>\n",
       "    <tr>\n",
       "      <th>24058258</th>\n",
       "      <td>False</td>\n",
       "    </tr>\n",
       "    <tr>\n",
       "      <th>24058259</th>\n",
       "      <td>False</td>\n",
       "    </tr>\n",
       "    <tr>\n",
       "      <th>24058260</th>\n",
       "      <td>False</td>\n",
       "    </tr>\n",
       "    <tr>\n",
       "      <th>24058261</th>\n",
       "      <td>False</td>\n",
       "    </tr>\n",
       "    <tr>\n",
       "      <th>24058262</th>\n",
       "      <td>False</td>\n",
       "    </tr>\n",
       "  </tbody>\n",
       "</table>\n",
       "<p>24058263 rows × 1 columns</p>\n",
       "</div>"
      ],
      "text/plain": [
       "          Rating\n",
       "0           True\n",
       "1          False\n",
       "2          False\n",
       "3          False\n",
       "4          False\n",
       "...          ...\n",
       "24058258   False\n",
       "24058259   False\n",
       "24058260   False\n",
       "24058261   False\n",
       "24058262   False\n",
       "\n",
       "[24058263 rows x 1 columns]"
      ]
     },
     "execution_count": 16,
     "metadata": {},
     "output_type": "execute_result"
    }
   ],
   "source": [
    "df_nan"
   ]
  },
  {
   "cell_type": "code",
   "execution_count": 17,
   "id": "d69dd475-2f99-496c-909c-1c00ea0dd33c",
   "metadata": {},
   "outputs": [
    {
     "data": {
      "text/html": [
       "<div>\n",
       "<style scoped>\n",
       "    .dataframe tbody tr th:only-of-type {\n",
       "        vertical-align: middle;\n",
       "    }\n",
       "\n",
       "    .dataframe tbody tr th {\n",
       "        vertical-align: top;\n",
       "    }\n",
       "\n",
       "    .dataframe thead th {\n",
       "        text-align: right;\n",
       "    }\n",
       "</style>\n",
       "<table border=\"1\" class=\"dataframe\">\n",
       "  <thead>\n",
       "    <tr style=\"text-align: right;\">\n",
       "      <th></th>\n",
       "      <th>Rating</th>\n",
       "    </tr>\n",
       "  </thead>\n",
       "  <tbody>\n",
       "    <tr>\n",
       "      <th>0</th>\n",
       "      <td>True</td>\n",
       "    </tr>\n",
       "    <tr>\n",
       "      <th>548</th>\n",
       "      <td>True</td>\n",
       "    </tr>\n",
       "    <tr>\n",
       "      <th>694</th>\n",
       "      <td>True</td>\n",
       "    </tr>\n",
       "    <tr>\n",
       "      <th>2707</th>\n",
       "      <td>True</td>\n",
       "    </tr>\n",
       "    <tr>\n",
       "      <th>2850</th>\n",
       "      <td>True</td>\n",
       "    </tr>\n",
       "    <tr>\n",
       "      <th>...</th>\n",
       "      <td>...</td>\n",
       "    </tr>\n",
       "    <tr>\n",
       "      <th>24046714</th>\n",
       "      <td>True</td>\n",
       "    </tr>\n",
       "    <tr>\n",
       "      <th>24047329</th>\n",
       "      <td>True</td>\n",
       "    </tr>\n",
       "    <tr>\n",
       "      <th>24056849</th>\n",
       "      <td>True</td>\n",
       "    </tr>\n",
       "    <tr>\n",
       "      <th>24057564</th>\n",
       "      <td>True</td>\n",
       "    </tr>\n",
       "    <tr>\n",
       "      <th>24057834</th>\n",
       "      <td>True</td>\n",
       "    </tr>\n",
       "  </tbody>\n",
       "</table>\n",
       "<p>4499 rows × 1 columns</p>\n",
       "</div>"
      ],
      "text/plain": [
       "          Rating\n",
       "0           True\n",
       "548         True\n",
       "694         True\n",
       "2707        True\n",
       "2850        True\n",
       "...          ...\n",
       "24046714    True\n",
       "24047329    True\n",
       "24056849    True\n",
       "24057564    True\n",
       "24057834    True\n",
       "\n",
       "[4499 rows x 1 columns]"
      ]
     },
     "execution_count": 17,
     "metadata": {},
     "output_type": "execute_result"
    }
   ],
   "source": [
    "df_nan=df_nan[df_nan['Rating']==True]\n",
    "df_nan"
   ]
  },
  {
   "cell_type": "code",
   "execution_count": 18,
   "id": "ff9a39ad-b183-4330-96da-9161b3e7c043",
   "metadata": {},
   "outputs": [
    {
     "data": {
      "text/plain": [
       "(4499, 1)"
      ]
     },
     "execution_count": 18,
     "metadata": {},
     "output_type": "execute_result"
    }
   ],
   "source": [
    "df_nan.shape"
   ]
  },
  {
   "cell_type": "code",
   "execution_count": 19,
   "id": "fb9489da-50de-4c87-9b72-dd58833fecc8",
   "metadata": {},
   "outputs": [
    {
     "data": {
      "text/html": [
       "<div>\n",
       "<style scoped>\n",
       "    .dataframe tbody tr th:only-of-type {\n",
       "        vertical-align: middle;\n",
       "    }\n",
       "\n",
       "    .dataframe tbody tr th {\n",
       "        vertical-align: top;\n",
       "    }\n",
       "\n",
       "    .dataframe thead th {\n",
       "        text-align: right;\n",
       "    }\n",
       "</style>\n",
       "<table border=\"1\" class=\"dataframe\">\n",
       "  <thead>\n",
       "    <tr style=\"text-align: right;\">\n",
       "      <th></th>\n",
       "      <th>Rating</th>\n",
       "    </tr>\n",
       "  </thead>\n",
       "  <tbody>\n",
       "    <tr>\n",
       "      <th>0</th>\n",
       "      <td>True</td>\n",
       "    </tr>\n",
       "    <tr>\n",
       "      <th>548</th>\n",
       "      <td>True</td>\n",
       "    </tr>\n",
       "    <tr>\n",
       "      <th>694</th>\n",
       "      <td>True</td>\n",
       "    </tr>\n",
       "    <tr>\n",
       "      <th>2707</th>\n",
       "      <td>True</td>\n",
       "    </tr>\n",
       "    <tr>\n",
       "      <th>2850</th>\n",
       "      <td>True</td>\n",
       "    </tr>\n",
       "  </tbody>\n",
       "</table>\n",
       "</div>"
      ],
      "text/plain": [
       "      Rating\n",
       "0       True\n",
       "548     True\n",
       "694     True\n",
       "2707    True\n",
       "2850    True"
      ]
     },
     "execution_count": 19,
     "metadata": {},
     "output_type": "execute_result"
    }
   ],
   "source": [
    "df_nan.head()"
   ]
  },
  {
   "cell_type": "code",
   "execution_count": 20,
   "id": "1e85375f-0c33-4ba0-a1ea-514b9267b1a1",
   "metadata": {},
   "outputs": [],
   "source": [
    "#now we will reset the index as the column\n",
    "df_nan=df_nan.reset_index()"
   ]
  },
  {
   "cell_type": "code",
   "execution_count": 21,
   "id": "ecb0d84b-d63f-4383-9228-5e0d601d53ff",
   "metadata": {},
   "outputs": [
    {
     "data": {
      "text/html": [
       "<div>\n",
       "<style scoped>\n",
       "    .dataframe tbody tr th:only-of-type {\n",
       "        vertical-align: middle;\n",
       "    }\n",
       "\n",
       "    .dataframe tbody tr th {\n",
       "        vertical-align: top;\n",
       "    }\n",
       "\n",
       "    .dataframe thead th {\n",
       "        text-align: right;\n",
       "    }\n",
       "</style>\n",
       "<table border=\"1\" class=\"dataframe\">\n",
       "  <thead>\n",
       "    <tr style=\"text-align: right;\">\n",
       "      <th></th>\n",
       "      <th>index</th>\n",
       "      <th>Rating</th>\n",
       "    </tr>\n",
       "  </thead>\n",
       "  <tbody>\n",
       "    <tr>\n",
       "      <th>0</th>\n",
       "      <td>0</td>\n",
       "      <td>True</td>\n",
       "    </tr>\n",
       "    <tr>\n",
       "      <th>1</th>\n",
       "      <td>548</td>\n",
       "      <td>True</td>\n",
       "    </tr>\n",
       "    <tr>\n",
       "      <th>2</th>\n",
       "      <td>694</td>\n",
       "      <td>True</td>\n",
       "    </tr>\n",
       "    <tr>\n",
       "      <th>3</th>\n",
       "      <td>2707</td>\n",
       "      <td>True</td>\n",
       "    </tr>\n",
       "    <tr>\n",
       "      <th>4</th>\n",
       "      <td>2850</td>\n",
       "      <td>True</td>\n",
       "    </tr>\n",
       "    <tr>\n",
       "      <th>...</th>\n",
       "      <td>...</td>\n",
       "      <td>...</td>\n",
       "    </tr>\n",
       "    <tr>\n",
       "      <th>4494</th>\n",
       "      <td>24046714</td>\n",
       "      <td>True</td>\n",
       "    </tr>\n",
       "    <tr>\n",
       "      <th>4495</th>\n",
       "      <td>24047329</td>\n",
       "      <td>True</td>\n",
       "    </tr>\n",
       "    <tr>\n",
       "      <th>4496</th>\n",
       "      <td>24056849</td>\n",
       "      <td>True</td>\n",
       "    </tr>\n",
       "    <tr>\n",
       "      <th>4497</th>\n",
       "      <td>24057564</td>\n",
       "      <td>True</td>\n",
       "    </tr>\n",
       "    <tr>\n",
       "      <th>4498</th>\n",
       "      <td>24057834</td>\n",
       "      <td>True</td>\n",
       "    </tr>\n",
       "  </tbody>\n",
       "</table>\n",
       "<p>4499 rows × 2 columns</p>\n",
       "</div>"
      ],
      "text/plain": [
       "         index  Rating\n",
       "0            0    True\n",
       "1          548    True\n",
       "2          694    True\n",
       "3         2707    True\n",
       "4         2850    True\n",
       "...        ...     ...\n",
       "4494  24046714    True\n",
       "4495  24047329    True\n",
       "4496  24056849    True\n",
       "4497  24057564    True\n",
       "4498  24057834    True\n",
       "\n",
       "[4499 rows x 2 columns]"
      ]
     },
     "execution_count": 21,
     "metadata": {},
     "output_type": "execute_result"
    }
   ],
   "source": [
    "df_nan"
   ]
  },
  {
   "cell_type": "code",
   "execution_count": 22,
   "id": "748ac9fd-ea89-47f0-8838-fddc002b043d",
   "metadata": {},
   "outputs": [
    {
     "name": "stdout",
     "output_type": "stream",
     "text": [
      "Movie numpy: [1.000e+00 1.000e+00 1.000e+00 ... 4.499e+03 4.499e+03 4.499e+03]\n",
      "Length: 24053764\n"
     ]
    }
   ],
   "source": [
    "#To create a numpy array containing movie ids according the 'ratings' dataset\n",
    "movie_np = []\n",
    "movie_id = 1\n",
    "for i,j in zip(df_nan['index'][1:],df_nan['index'][:-1]):\n",
    "    temp = np.full((1,i-j-1), movie_id)\n",
    "    movie_np = np.append(movie_np, temp)\n",
    "    movie_id += 1\n",
    "\n",
    "# Account for last record and corresponding length\n",
    "last_record = np.full((1,len(netflix_dataset) - df_nan.iloc[-1,0]-1),movie_id)\n",
    "movie_np=np.append(movie_np, last_record)\n",
    "\n",
    "print(f'Movie numpy: {movie_np}')\n",
    "print(f'Length: {len(movie_np)}')"
   ]
  },
  {
   "cell_type": "code",
   "execution_count": 23,
   "id": "3902ad04-af8b-4e9e-b988-475ddc7e6ff3",
   "metadata": {},
   "outputs": [
    {
     "data": {
      "text/plain": [
       "24053764"
      ]
     },
     "execution_count": 23,
     "metadata": {},
     "output_type": "execute_result"
    }
   ],
   "source": [
    "len(movie_np)"
   ]
  },
  {
   "cell_type": "code",
   "execution_count": 24,
   "id": "f5282b35-5753-4b80-bbe7-895b4f1df1b7",
   "metadata": {},
   "outputs": [
    {
     "data": {
      "text/plain": [
       "24058263"
      ]
     },
     "execution_count": 24,
     "metadata": {},
     "output_type": "execute_result"
    }
   ],
   "source": [
    "len(netflix_dataset)"
   ]
  },
  {
   "cell_type": "code",
   "execution_count": 25,
   "id": "c3f0c5c7-1bd9-420d-8254-0b2c1a0d0c81",
   "metadata": {},
   "outputs": [
    {
     "name": "stdout",
     "output_type": "stream",
     "text": [
      "Now the dataset will look like: \n"
     ]
    },
    {
     "data": {
      "text/html": [
       "<div>\n",
       "<style scoped>\n",
       "    .dataframe tbody tr th:only-of-type {\n",
       "        vertical-align: middle;\n",
       "    }\n",
       "\n",
       "    .dataframe tbody tr th {\n",
       "        vertical-align: top;\n",
       "    }\n",
       "\n",
       "    .dataframe thead th {\n",
       "        text-align: right;\n",
       "    }\n",
       "</style>\n",
       "<table border=\"1\" class=\"dataframe\">\n",
       "  <thead>\n",
       "    <tr style=\"text-align: right;\">\n",
       "      <th></th>\n",
       "      <th>Cust_Id</th>\n",
       "      <th>Rating</th>\n",
       "      <th>Movie_Id</th>\n",
       "    </tr>\n",
       "  </thead>\n",
       "  <tbody>\n",
       "    <tr>\n",
       "      <th>1</th>\n",
       "      <td>1488844</td>\n",
       "      <td>3.0</td>\n",
       "      <td>1</td>\n",
       "    </tr>\n",
       "    <tr>\n",
       "      <th>2</th>\n",
       "      <td>822109</td>\n",
       "      <td>5.0</td>\n",
       "      <td>1</td>\n",
       "    </tr>\n",
       "    <tr>\n",
       "      <th>3</th>\n",
       "      <td>885013</td>\n",
       "      <td>4.0</td>\n",
       "      <td>1</td>\n",
       "    </tr>\n",
       "    <tr>\n",
       "      <th>4</th>\n",
       "      <td>30878</td>\n",
       "      <td>4.0</td>\n",
       "      <td>1</td>\n",
       "    </tr>\n",
       "    <tr>\n",
       "      <th>5</th>\n",
       "      <td>823519</td>\n",
       "      <td>3.0</td>\n",
       "      <td>1</td>\n",
       "    </tr>\n",
       "  </tbody>\n",
       "</table>\n",
       "</div>"
      ],
      "text/plain": [
       "   Cust_Id  Rating  Movie_Id\n",
       "1  1488844     3.0         1\n",
       "2   822109     5.0         1\n",
       "3   885013     4.0         1\n",
       "4    30878     4.0         1\n",
       "5   823519     3.0         1"
      ]
     },
     "execution_count": 25,
     "metadata": {},
     "output_type": "execute_result"
    }
   ],
   "source": [
    "#To append the above created array to the datset after removing the 'nan' rows\n",
    "netflix_dataset=netflix_dataset[pd.notnull(netflix_dataset['Rating'])]\n",
    "netflix_dataset['Movie_Id']=movie_np.astype(int)\n",
    "netflix_dataset['Cust_Id']=netflix_dataset['Cust_Id'].astype(int)\n",
    "print(\"Now the dataset will look like: \")\n",
    "netflix_dataset.head()"
   ]
  },
  {
   "cell_type": "code",
   "execution_count": 26,
   "id": "5982f168-39ff-4c1c-87f0-7e36cf6ca75d",
   "metadata": {},
   "outputs": [
    {
     "data": {
      "text/plain": [
       "(24053764, 3)"
      ]
     },
     "execution_count": 26,
     "metadata": {},
     "output_type": "execute_result"
    }
   ],
   "source": [
    "netflix_dataset.shape"
   ]
  },
  {
   "cell_type": "markdown",
   "id": "e816290b-6f41-4162-9f7e-c8a30b5749ed",
   "metadata": {},
   "source": [
    "**Data Cleaning**"
   ]
  },
  {
   "cell_type": "code",
   "execution_count": 27,
   "id": "2616f560-0c71-41aa-89bb-4e2ad09f1b9c",
   "metadata": {},
   "outputs": [],
   "source": [
    "#now we will remove all the users that have rated less movies and\n",
    "#also all those movies that has been rated less in numbers\n",
    "f = ['count','mean']"
   ]
  },
  {
   "cell_type": "code",
   "execution_count": 28,
   "id": "b9375517-fba5-4ccd-b0f8-f0094975bcab",
   "metadata": {},
   "outputs": [
    {
     "data": {
      "text/html": [
       "<div>\n",
       "<style scoped>\n",
       "    .dataframe tbody tr th:only-of-type {\n",
       "        vertical-align: middle;\n",
       "    }\n",
       "\n",
       "    .dataframe tbody tr th {\n",
       "        vertical-align: top;\n",
       "    }\n",
       "\n",
       "    .dataframe thead tr th {\n",
       "        text-align: left;\n",
       "    }\n",
       "\n",
       "    .dataframe thead tr:last-of-type th {\n",
       "        text-align: right;\n",
       "    }\n",
       "</style>\n",
       "<table border=\"1\" class=\"dataframe\">\n",
       "  <thead>\n",
       "    <tr>\n",
       "      <th></th>\n",
       "      <th colspan=\"2\" halign=\"left\">Cust_Id</th>\n",
       "      <th colspan=\"2\" halign=\"left\">Rating</th>\n",
       "    </tr>\n",
       "    <tr>\n",
       "      <th></th>\n",
       "      <th>count</th>\n",
       "      <th>mean</th>\n",
       "      <th>count</th>\n",
       "      <th>mean</th>\n",
       "    </tr>\n",
       "    <tr>\n",
       "      <th>Movie_Id</th>\n",
       "      <th></th>\n",
       "      <th></th>\n",
       "      <th></th>\n",
       "      <th></th>\n",
       "    </tr>\n",
       "  </thead>\n",
       "  <tbody>\n",
       "    <tr>\n",
       "      <th>1</th>\n",
       "      <td>547</td>\n",
       "      <td>1.249876e+06</td>\n",
       "      <td>547</td>\n",
       "      <td>3.749543</td>\n",
       "    </tr>\n",
       "    <tr>\n",
       "      <th>2</th>\n",
       "      <td>145</td>\n",
       "      <td>1.341926e+06</td>\n",
       "      <td>145</td>\n",
       "      <td>3.558621</td>\n",
       "    </tr>\n",
       "    <tr>\n",
       "      <th>3</th>\n",
       "      <td>2012</td>\n",
       "      <td>1.324290e+06</td>\n",
       "      <td>2012</td>\n",
       "      <td>3.641153</td>\n",
       "    </tr>\n",
       "    <tr>\n",
       "      <th>4</th>\n",
       "      <td>142</td>\n",
       "      <td>1.402854e+06</td>\n",
       "      <td>142</td>\n",
       "      <td>2.739437</td>\n",
       "    </tr>\n",
       "    <tr>\n",
       "      <th>5</th>\n",
       "      <td>1140</td>\n",
       "      <td>1.302384e+06</td>\n",
       "      <td>1140</td>\n",
       "      <td>3.919298</td>\n",
       "    </tr>\n",
       "    <tr>\n",
       "      <th>...</th>\n",
       "      <td>...</td>\n",
       "      <td>...</td>\n",
       "      <td>...</td>\n",
       "      <td>...</td>\n",
       "    </tr>\n",
       "    <tr>\n",
       "      <th>4495</th>\n",
       "      <td>614</td>\n",
       "      <td>1.321093e+06</td>\n",
       "      <td>614</td>\n",
       "      <td>3.478827</td>\n",
       "    </tr>\n",
       "    <tr>\n",
       "      <th>4496</th>\n",
       "      <td>9519</td>\n",
       "      <td>1.332006e+06</td>\n",
       "      <td>9519</td>\n",
       "      <td>3.763000</td>\n",
       "    </tr>\n",
       "    <tr>\n",
       "      <th>4497</th>\n",
       "      <td>714</td>\n",
       "      <td>1.330543e+06</td>\n",
       "      <td>714</td>\n",
       "      <td>2.715686</td>\n",
       "    </tr>\n",
       "    <tr>\n",
       "      <th>4498</th>\n",
       "      <td>269</td>\n",
       "      <td>1.262035e+06</td>\n",
       "      <td>269</td>\n",
       "      <td>2.464684</td>\n",
       "    </tr>\n",
       "    <tr>\n",
       "      <th>4499</th>\n",
       "      <td>428</td>\n",
       "      <td>1.270551e+06</td>\n",
       "      <td>428</td>\n",
       "      <td>2.614486</td>\n",
       "    </tr>\n",
       "  </tbody>\n",
       "</table>\n",
       "<p>4499 rows × 4 columns</p>\n",
       "</div>"
      ],
      "text/plain": [
       "         Cust_Id               Rating          \n",
       "           count          mean  count      mean\n",
       "Movie_Id                                       \n",
       "1            547  1.249876e+06    547  3.749543\n",
       "2            145  1.341926e+06    145  3.558621\n",
       "3           2012  1.324290e+06   2012  3.641153\n",
       "4            142  1.402854e+06    142  2.739437\n",
       "5           1140  1.302384e+06   1140  3.919298\n",
       "...          ...           ...    ...       ...\n",
       "4495         614  1.321093e+06    614  3.478827\n",
       "4496        9519  1.332006e+06   9519  3.763000\n",
       "4497         714  1.330543e+06    714  2.715686\n",
       "4498         269  1.262035e+06    269  2.464684\n",
       "4499         428  1.270551e+06    428  2.614486\n",
       "\n",
       "[4499 rows x 4 columns]"
      ]
     },
     "execution_count": 28,
     "metadata": {},
     "output_type": "execute_result"
    }
   ],
   "source": [
    "dataset_movie_summary=netflix_dataset.groupby('Movie_Id').agg(f)\n",
    "dataset_movie_summary"
   ]
  },
  {
   "cell_type": "code",
   "execution_count": 29,
   "id": "78693aca-c50b-48c1-af19-4f05d980b1aa",
   "metadata": {},
   "outputs": [
    {
     "data": {
      "text/html": [
       "<div>\n",
       "<style scoped>\n",
       "    .dataframe tbody tr th:only-of-type {\n",
       "        vertical-align: middle;\n",
       "    }\n",
       "\n",
       "    .dataframe tbody tr th {\n",
       "        vertical-align: top;\n",
       "    }\n",
       "\n",
       "    .dataframe thead th {\n",
       "        text-align: right;\n",
       "    }\n",
       "</style>\n",
       "<table border=\"1\" class=\"dataframe\">\n",
       "  <thead>\n",
       "    <tr style=\"text-align: right;\">\n",
       "      <th></th>\n",
       "      <th>count</th>\n",
       "      <th>mean</th>\n",
       "    </tr>\n",
       "    <tr>\n",
       "      <th>Movie_Id</th>\n",
       "      <th></th>\n",
       "      <th></th>\n",
       "    </tr>\n",
       "  </thead>\n",
       "  <tbody>\n",
       "    <tr>\n",
       "      <th>1</th>\n",
       "      <td>547</td>\n",
       "      <td>3.749543</td>\n",
       "    </tr>\n",
       "    <tr>\n",
       "      <th>2</th>\n",
       "      <td>145</td>\n",
       "      <td>3.558621</td>\n",
       "    </tr>\n",
       "    <tr>\n",
       "      <th>3</th>\n",
       "      <td>2012</td>\n",
       "      <td>3.641153</td>\n",
       "    </tr>\n",
       "    <tr>\n",
       "      <th>4</th>\n",
       "      <td>142</td>\n",
       "      <td>2.739437</td>\n",
       "    </tr>\n",
       "    <tr>\n",
       "      <th>5</th>\n",
       "      <td>1140</td>\n",
       "      <td>3.919298</td>\n",
       "    </tr>\n",
       "    <tr>\n",
       "      <th>...</th>\n",
       "      <td>...</td>\n",
       "      <td>...</td>\n",
       "    </tr>\n",
       "    <tr>\n",
       "      <th>4495</th>\n",
       "      <td>614</td>\n",
       "      <td>3.478827</td>\n",
       "    </tr>\n",
       "    <tr>\n",
       "      <th>4496</th>\n",
       "      <td>9519</td>\n",
       "      <td>3.763000</td>\n",
       "    </tr>\n",
       "    <tr>\n",
       "      <th>4497</th>\n",
       "      <td>714</td>\n",
       "      <td>2.715686</td>\n",
       "    </tr>\n",
       "    <tr>\n",
       "      <th>4498</th>\n",
       "      <td>269</td>\n",
       "      <td>2.464684</td>\n",
       "    </tr>\n",
       "    <tr>\n",
       "      <th>4499</th>\n",
       "      <td>428</td>\n",
       "      <td>2.614486</td>\n",
       "    </tr>\n",
       "  </tbody>\n",
       "</table>\n",
       "<p>4499 rows × 2 columns</p>\n",
       "</div>"
      ],
      "text/plain": [
       "          count      mean\n",
       "Movie_Id                 \n",
       "1           547  3.749543\n",
       "2           145  3.558621\n",
       "3          2012  3.641153\n",
       "4           142  2.739437\n",
       "5          1140  3.919298\n",
       "...         ...       ...\n",
       "4495        614  3.478827\n",
       "4496       9519  3.763000\n",
       "4497        714  2.715686\n",
       "4498        269  2.464684\n",
       "4499        428  2.614486\n",
       "\n",
       "[4499 rows x 2 columns]"
      ]
     },
     "execution_count": 29,
     "metadata": {},
     "output_type": "execute_result"
    }
   ],
   "source": [
    "dataset_movie_summary=netflix_dataset.groupby('Movie_Id')['Rating'].agg(f)\n",
    "dataset_movie_summary"
   ]
  },
  {
   "cell_type": "code",
   "execution_count": 30,
   "id": "1e77595f-daa7-4ee0-977e-396a117a82ff",
   "metadata": {},
   "outputs": [],
   "source": [
    "#now we will store all the movie_id indexes in a variable dataset_movie_summary.index and convert the datatype to int\n",
    "# dataset_movie_summary.index=dataset_movie_summary.index.map(int)"
   ]
  },
  {
   "cell_type": "code",
   "execution_count": 31,
   "id": "fcc18001-9a54-4c2f-8e58-632f83463a46",
   "metadata": {},
   "outputs": [
    {
     "data": {
      "text/plain": [
       "1798.6"
      ]
     },
     "execution_count": 31,
     "metadata": {},
     "output_type": "execute_result"
    }
   ],
   "source": [
    "dataset_movie_summary['count'].quantile(0.7)"
   ]
  },
  {
   "cell_type": "code",
   "execution_count": 32,
   "id": "8dba79e1-e8ec-41b5-a426-c44fddb18fbe",
   "metadata": {},
   "outputs": [
    {
     "data": {
      "text/plain": [
       "1799.0"
      ]
     },
     "execution_count": 32,
     "metadata": {},
     "output_type": "execute_result"
    }
   ],
   "source": [
    "#now we will create a benchmark\n",
    "movie_benchmark=round(dataset_movie_summary['count'].quantile(0.7),0)\n",
    "movie_benchmark"
   ]
  },
  {
   "cell_type": "code",
   "execution_count": 33,
   "id": "74b0f101-b85b-4295-83ae-96bd2c046418",
   "metadata": {},
   "outputs": [
    {
     "data": {
      "text/plain": [
       "Movie_Id\n",
       "1        547\n",
       "2        145\n",
       "3       2012\n",
       "4        142\n",
       "5       1140\n",
       "        ... \n",
       "4495     614\n",
       "4496    9519\n",
       "4497     714\n",
       "4498     269\n",
       "4499     428\n",
       "Name: count, Length: 4499, dtype: int64"
      ]
     },
     "execution_count": 33,
     "metadata": {},
     "output_type": "execute_result"
    }
   ],
   "source": [
    "dataset_movie_summary['count']"
   ]
  },
  {
   "cell_type": "code",
   "execution_count": 34,
   "id": "ff48e8d1-8d9e-498e-a61a-9ad23ac4eb13",
   "metadata": {},
   "outputs": [
    {
     "data": {
      "text/plain": [
       "Index([   1,    2,    4,    5,    6,    7,    9,   10,   11,   12,\n",
       "       ...\n",
       "       4484, 4486, 4487, 4489, 4491, 4494, 4495, 4497, 4498, 4499],\n",
       "      dtype='int32', name='Movie_Id', length=3149)"
      ]
     },
     "execution_count": 34,
     "metadata": {},
     "output_type": "execute_result"
    }
   ],
   "source": [
    "drop_movie_list=dataset_movie_summary[dataset_movie_summary['count']<movie_benchmark].index\n",
    "drop_movie_list"
   ]
  },
  {
   "cell_type": "code",
   "execution_count": 35,
   "id": "a399f4b7-1108-4f36-a8f5-998cf9df07c4",
   "metadata": {},
   "outputs": [
    {
     "data": {
      "text/html": [
       "<div>\n",
       "<style scoped>\n",
       "    .dataframe tbody tr th:only-of-type {\n",
       "        vertical-align: middle;\n",
       "    }\n",
       "\n",
       "    .dataframe tbody tr th {\n",
       "        vertical-align: top;\n",
       "    }\n",
       "\n",
       "    .dataframe thead th {\n",
       "        text-align: right;\n",
       "    }\n",
       "</style>\n",
       "<table border=\"1\" class=\"dataframe\">\n",
       "  <thead>\n",
       "    <tr style=\"text-align: right;\">\n",
       "      <th></th>\n",
       "      <th>count</th>\n",
       "      <th>mean</th>\n",
       "    </tr>\n",
       "    <tr>\n",
       "      <th>Cust_Id</th>\n",
       "      <th></th>\n",
       "      <th></th>\n",
       "    </tr>\n",
       "  </thead>\n",
       "  <tbody>\n",
       "    <tr>\n",
       "      <th>6</th>\n",
       "      <td>153</td>\n",
       "      <td>3.333333</td>\n",
       "    </tr>\n",
       "    <tr>\n",
       "      <th>7</th>\n",
       "      <td>195</td>\n",
       "      <td>4.066667</td>\n",
       "    </tr>\n",
       "    <tr>\n",
       "      <th>8</th>\n",
       "      <td>21</td>\n",
       "      <td>4.000000</td>\n",
       "    </tr>\n",
       "    <tr>\n",
       "      <th>10</th>\n",
       "      <td>49</td>\n",
       "      <td>3.346939</td>\n",
       "    </tr>\n",
       "    <tr>\n",
       "      <th>25</th>\n",
       "      <td>4</td>\n",
       "      <td>3.500000</td>\n",
       "    </tr>\n",
       "    <tr>\n",
       "      <th>...</th>\n",
       "      <td>...</td>\n",
       "      <td>...</td>\n",
       "    </tr>\n",
       "    <tr>\n",
       "      <th>2649404</th>\n",
       "      <td>12</td>\n",
       "      <td>4.083333</td>\n",
       "    </tr>\n",
       "    <tr>\n",
       "      <th>2649409</th>\n",
       "      <td>10</td>\n",
       "      <td>4.000000</td>\n",
       "    </tr>\n",
       "    <tr>\n",
       "      <th>2649421</th>\n",
       "      <td>3</td>\n",
       "      <td>5.000000</td>\n",
       "    </tr>\n",
       "    <tr>\n",
       "      <th>2649426</th>\n",
       "      <td>74</td>\n",
       "      <td>4.067568</td>\n",
       "    </tr>\n",
       "    <tr>\n",
       "      <th>2649429</th>\n",
       "      <td>62</td>\n",
       "      <td>4.161290</td>\n",
       "    </tr>\n",
       "  </tbody>\n",
       "</table>\n",
       "<p>470758 rows × 2 columns</p>\n",
       "</div>"
      ],
      "text/plain": [
       "         count      mean\n",
       "Cust_Id                 \n",
       "6          153  3.333333\n",
       "7          195  4.066667\n",
       "8           21  4.000000\n",
       "10          49  3.346939\n",
       "25           4  3.500000\n",
       "...        ...       ...\n",
       "2649404     12  4.083333\n",
       "2649409     10  4.000000\n",
       "2649421      3  5.000000\n",
       "2649426     74  4.067568\n",
       "2649429     62  4.161290\n",
       "\n",
       "[470758 rows x 2 columns]"
      ]
     },
     "execution_count": 35,
     "metadata": {},
     "output_type": "execute_result"
    }
   ],
   "source": [
    "#now we will remove all the users that are in-active\n",
    "dataset_cust_summary=netflix_dataset.groupby('Cust_Id')['Rating'].agg(f)\n",
    "dataset_cust_summary"
   ]
  },
  {
   "cell_type": "code",
   "execution_count": 36,
   "id": "4c10c5c7-70fc-4516-b3a8-61099fbb40bd",
   "metadata": {},
   "outputs": [
    {
     "data": {
      "text/plain": [
       "52.0"
      ]
     },
     "execution_count": 36,
     "metadata": {},
     "output_type": "execute_result"
    }
   ],
   "source": [
    "cust_benchmark=round(dataset_cust_summary['count'].quantile(0.7),0)\n",
    "cust_benchmark"
   ]
  },
  {
   "cell_type": "code",
   "execution_count": 37,
   "id": "a42b3522-8308-4324-b1ba-5499c953568c",
   "metadata": {},
   "outputs": [
    {
     "data": {
      "text/plain": [
       "Index([      8,      10,      25,      33,      42,      59,      83,      87,\n",
       "            94,     116,\n",
       "       ...\n",
       "       2649343, 2649351, 2649375, 2649376, 2649379, 2649384, 2649401, 2649404,\n",
       "       2649409, 2649421],\n",
       "      dtype='int32', name='Cust_Id', length=327300)"
      ]
     },
     "execution_count": 37,
     "metadata": {},
     "output_type": "execute_result"
    }
   ],
   "source": [
    "drop_cust_list=dataset_cust_summary[dataset_cust_summary['count']<cust_benchmark].index\n",
    "drop_cust_list"
   ]
  },
  {
   "cell_type": "code",
   "execution_count": 38,
   "id": "6c195198-37af-4f60-b8e7-7511f0a25443",
   "metadata": {},
   "outputs": [
    {
     "name": "stdout",
     "output_type": "stream",
     "text": [
      "The original dataframe has:  (24053764, 3) shape\n"
     ]
    }
   ],
   "source": [
    "#we will remove all the customers and movies that are below the benchmark\n",
    "print('The original dataframe has: ', netflix_dataset.shape, 'shape')"
   ]
  },
  {
   "cell_type": "code",
   "execution_count": 39,
   "id": "b2d81593-ee23-4282-bc77-96197791a7fb",
   "metadata": {},
   "outputs": [
    {
     "name": "stdout",
     "output_type": "stream",
     "text": [
      "After the triming, the shape is: (17337458, 3)\n"
     ]
    }
   ],
   "source": [
    "netflix_dataset=netflix_dataset[~netflix_dataset['Movie_Id'].isin(drop_movie_list)]\n",
    "netflix_dataset=netflix_dataset[~netflix_dataset['Cust_Id'].isin(drop_cust_list)]\n",
    "print('After the triming, the shape is: {}'.format(netflix_dataset.shape))"
   ]
  },
  {
   "cell_type": "code",
   "execution_count": 40,
   "id": "11f78364-095f-4098-a94a-83225ed39fc9",
   "metadata": {},
   "outputs": [
    {
     "data": {
      "text/html": [
       "<div>\n",
       "<style scoped>\n",
       "    .dataframe tbody tr th:only-of-type {\n",
       "        vertical-align: middle;\n",
       "    }\n",
       "\n",
       "    .dataframe tbody tr th {\n",
       "        vertical-align: top;\n",
       "    }\n",
       "\n",
       "    .dataframe thead th {\n",
       "        text-align: right;\n",
       "    }\n",
       "</style>\n",
       "<table border=\"1\" class=\"dataframe\">\n",
       "  <thead>\n",
       "    <tr style=\"text-align: right;\">\n",
       "      <th></th>\n",
       "      <th>Cust_Id</th>\n",
       "      <th>Rating</th>\n",
       "      <th>Movie_Id</th>\n",
       "    </tr>\n",
       "  </thead>\n",
       "  <tbody>\n",
       "    <tr>\n",
       "      <th>696</th>\n",
       "      <td>712664</td>\n",
       "      <td>5.0</td>\n",
       "      <td>3</td>\n",
       "    </tr>\n",
       "    <tr>\n",
       "      <th>697</th>\n",
       "      <td>1331154</td>\n",
       "      <td>4.0</td>\n",
       "      <td>3</td>\n",
       "    </tr>\n",
       "    <tr>\n",
       "      <th>698</th>\n",
       "      <td>2632461</td>\n",
       "      <td>3.0</td>\n",
       "      <td>3</td>\n",
       "    </tr>\n",
       "    <tr>\n",
       "      <th>699</th>\n",
       "      <td>44937</td>\n",
       "      <td>5.0</td>\n",
       "      <td>3</td>\n",
       "    </tr>\n",
       "    <tr>\n",
       "      <th>700</th>\n",
       "      <td>656399</td>\n",
       "      <td>4.0</td>\n",
       "      <td>3</td>\n",
       "    </tr>\n",
       "  </tbody>\n",
       "</table>\n",
       "</div>"
      ],
      "text/plain": [
       "     Cust_Id  Rating  Movie_Id\n",
       "696   712664     5.0         3\n",
       "697  1331154     4.0         3\n",
       "698  2632461     3.0         3\n",
       "699    44937     5.0         3\n",
       "700   656399     4.0         3"
      ]
     },
     "execution_count": 40,
     "metadata": {},
     "output_type": "execute_result"
    }
   ],
   "source": [
    "netflix_dataset.head()"
   ]
  },
  {
   "cell_type": "code",
   "execution_count": 41,
   "id": "c8028d16-4527-40dd-a4fa-414d8e5d30e7",
   "metadata": {},
   "outputs": [
    {
     "name": "stdout",
     "output_type": "stream",
     "text": [
      "(143458, 1350)\n"
     ]
    }
   ],
   "source": [
    "#now we will prepare the dataset for SVD and it takes the matrix as the input\n",
    "# so for input, we will convert the dataset into sparse matrix\n",
    "#4499 movies\n",
    "df_p = pd.pivot_table(netflix_dataset, values='Rating', index='Cust_Id', columns='Movie_Id')\n",
    "print(df_p.shape)"
   ]
  },
  {
   "cell_type": "code",
   "execution_count": 42,
   "id": "5a85c4eb-1c38-45c2-9b82-ef46b6b469a3",
   "metadata": {},
   "outputs": [
    {
     "data": {
      "text/html": [
       "<div>\n",
       "<style scoped>\n",
       "    .dataframe tbody tr th:only-of-type {\n",
       "        vertical-align: middle;\n",
       "    }\n",
       "\n",
       "    .dataframe tbody tr th {\n",
       "        vertical-align: top;\n",
       "    }\n",
       "\n",
       "    .dataframe thead th {\n",
       "        text-align: right;\n",
       "    }\n",
       "</style>\n",
       "<table border=\"1\" class=\"dataframe\">\n",
       "  <thead>\n",
       "    <tr style=\"text-align: right;\">\n",
       "      <th>Movie_Id</th>\n",
       "      <th>3</th>\n",
       "      <th>8</th>\n",
       "      <th>16</th>\n",
       "      <th>17</th>\n",
       "      <th>18</th>\n",
       "      <th>26</th>\n",
       "      <th>28</th>\n",
       "      <th>30</th>\n",
       "      <th>32</th>\n",
       "      <th>33</th>\n",
       "      <th>...</th>\n",
       "      <th>4472</th>\n",
       "      <th>4474</th>\n",
       "      <th>4478</th>\n",
       "      <th>4479</th>\n",
       "      <th>4485</th>\n",
       "      <th>4488</th>\n",
       "      <th>4490</th>\n",
       "      <th>4492</th>\n",
       "      <th>4493</th>\n",
       "      <th>4496</th>\n",
       "    </tr>\n",
       "    <tr>\n",
       "      <th>Cust_Id</th>\n",
       "      <th></th>\n",
       "      <th></th>\n",
       "      <th></th>\n",
       "      <th></th>\n",
       "      <th></th>\n",
       "      <th></th>\n",
       "      <th></th>\n",
       "      <th></th>\n",
       "      <th></th>\n",
       "      <th></th>\n",
       "      <th></th>\n",
       "      <th></th>\n",
       "      <th></th>\n",
       "      <th></th>\n",
       "      <th></th>\n",
       "      <th></th>\n",
       "      <th></th>\n",
       "      <th></th>\n",
       "      <th></th>\n",
       "      <th></th>\n",
       "      <th></th>\n",
       "    </tr>\n",
       "  </thead>\n",
       "  <tbody>\n",
       "    <tr>\n",
       "      <th>6</th>\n",
       "      <td>NaN</td>\n",
       "      <td>NaN</td>\n",
       "      <td>NaN</td>\n",
       "      <td>NaN</td>\n",
       "      <td>NaN</td>\n",
       "      <td>NaN</td>\n",
       "      <td>NaN</td>\n",
       "      <td>3.0</td>\n",
       "      <td>NaN</td>\n",
       "      <td>NaN</td>\n",
       "      <td>...</td>\n",
       "      <td>3.0</td>\n",
       "      <td>NaN</td>\n",
       "      <td>NaN</td>\n",
       "      <td>NaN</td>\n",
       "      <td>NaN</td>\n",
       "      <td>NaN</td>\n",
       "      <td>NaN</td>\n",
       "      <td>NaN</td>\n",
       "      <td>NaN</td>\n",
       "      <td>NaN</td>\n",
       "    </tr>\n",
       "    <tr>\n",
       "      <th>7</th>\n",
       "      <td>NaN</td>\n",
       "      <td>5.0</td>\n",
       "      <td>NaN</td>\n",
       "      <td>NaN</td>\n",
       "      <td>NaN</td>\n",
       "      <td>NaN</td>\n",
       "      <td>4.0</td>\n",
       "      <td>5.0</td>\n",
       "      <td>NaN</td>\n",
       "      <td>NaN</td>\n",
       "      <td>...</td>\n",
       "      <td>3.0</td>\n",
       "      <td>NaN</td>\n",
       "      <td>NaN</td>\n",
       "      <td>5.0</td>\n",
       "      <td>NaN</td>\n",
       "      <td>NaN</td>\n",
       "      <td>NaN</td>\n",
       "      <td>NaN</td>\n",
       "      <td>NaN</td>\n",
       "      <td>NaN</td>\n",
       "    </tr>\n",
       "    <tr>\n",
       "      <th>79</th>\n",
       "      <td>NaN</td>\n",
       "      <td>NaN</td>\n",
       "      <td>NaN</td>\n",
       "      <td>NaN</td>\n",
       "      <td>NaN</td>\n",
       "      <td>NaN</td>\n",
       "      <td>NaN</td>\n",
       "      <td>3.0</td>\n",
       "      <td>NaN</td>\n",
       "      <td>NaN</td>\n",
       "      <td>...</td>\n",
       "      <td>4.0</td>\n",
       "      <td>NaN</td>\n",
       "      <td>NaN</td>\n",
       "      <td>NaN</td>\n",
       "      <td>NaN</td>\n",
       "      <td>NaN</td>\n",
       "      <td>4.0</td>\n",
       "      <td>NaN</td>\n",
       "      <td>NaN</td>\n",
       "      <td>NaN</td>\n",
       "    </tr>\n",
       "    <tr>\n",
       "      <th>97</th>\n",
       "      <td>NaN</td>\n",
       "      <td>NaN</td>\n",
       "      <td>NaN</td>\n",
       "      <td>NaN</td>\n",
       "      <td>NaN</td>\n",
       "      <td>NaN</td>\n",
       "      <td>NaN</td>\n",
       "      <td>NaN</td>\n",
       "      <td>NaN</td>\n",
       "      <td>NaN</td>\n",
       "      <td>...</td>\n",
       "      <td>NaN</td>\n",
       "      <td>NaN</td>\n",
       "      <td>NaN</td>\n",
       "      <td>NaN</td>\n",
       "      <td>NaN</td>\n",
       "      <td>NaN</td>\n",
       "      <td>NaN</td>\n",
       "      <td>NaN</td>\n",
       "      <td>NaN</td>\n",
       "      <td>NaN</td>\n",
       "    </tr>\n",
       "    <tr>\n",
       "      <th>134</th>\n",
       "      <td>NaN</td>\n",
       "      <td>NaN</td>\n",
       "      <td>NaN</td>\n",
       "      <td>NaN</td>\n",
       "      <td>NaN</td>\n",
       "      <td>NaN</td>\n",
       "      <td>5.0</td>\n",
       "      <td>NaN</td>\n",
       "      <td>NaN</td>\n",
       "      <td>NaN</td>\n",
       "      <td>...</td>\n",
       "      <td>NaN</td>\n",
       "      <td>NaN</td>\n",
       "      <td>NaN</td>\n",
       "      <td>NaN</td>\n",
       "      <td>NaN</td>\n",
       "      <td>NaN</td>\n",
       "      <td>NaN</td>\n",
       "      <td>NaN</td>\n",
       "      <td>NaN</td>\n",
       "      <td>NaN</td>\n",
       "    </tr>\n",
       "  </tbody>\n",
       "</table>\n",
       "<p>5 rows × 1350 columns</p>\n",
       "</div>"
      ],
      "text/plain": [
       "Movie_Id  3     8     16    17    18    26    28    30    32    33    ...  \\\n",
       "Cust_Id                                                               ...   \n",
       "6          NaN   NaN   NaN   NaN   NaN   NaN   NaN   3.0   NaN   NaN  ...   \n",
       "7          NaN   5.0   NaN   NaN   NaN   NaN   4.0   5.0   NaN   NaN  ...   \n",
       "79         NaN   NaN   NaN   NaN   NaN   NaN   NaN   3.0   NaN   NaN  ...   \n",
       "97         NaN   NaN   NaN   NaN   NaN   NaN   NaN   NaN   NaN   NaN  ...   \n",
       "134        NaN   NaN   NaN   NaN   NaN   NaN   5.0   NaN   NaN   NaN  ...   \n",
       "\n",
       "Movie_Id  4472  4474  4478  4479  4485  4488  4490  4492  4493  4496  \n",
       "Cust_Id                                                               \n",
       "6          3.0   NaN   NaN   NaN   NaN   NaN   NaN   NaN   NaN   NaN  \n",
       "7          3.0   NaN   NaN   5.0   NaN   NaN   NaN   NaN   NaN   NaN  \n",
       "79         4.0   NaN   NaN   NaN   NaN   NaN   4.0   NaN   NaN   NaN  \n",
       "97         NaN   NaN   NaN   NaN   NaN   NaN   NaN   NaN   NaN   NaN  \n",
       "134        NaN   NaN   NaN   NaN   NaN   NaN   NaN   NaN   NaN   NaN  \n",
       "\n",
       "[5 rows x 1350 columns]"
      ]
     },
     "execution_count": 42,
     "metadata": {},
     "output_type": "execute_result"
    }
   ],
   "source": [
    "df_p.head()"
   ]
  },
  {
   "cell_type": "markdown",
   "id": "4048634e-6199-4178-a833-b74c0a8d3c35",
   "metadata": {},
   "source": [
    "**Load the movies dataset**"
   ]
  },
  {
   "cell_type": "code",
   "execution_count": 43,
   "id": "73034390-057c-4a82-9df0-025eb6111970",
   "metadata": {},
   "outputs": [
    {
     "name": "stdout",
     "output_type": "stream",
     "text": [
      "            Year                          Name\n",
      "Movie_Id                                      \n",
      "1         2003.0               Dinosaur Planet\n",
      "2         2004.0    Isle of Man TT 2004 Review\n",
      "3         1997.0                     Character\n",
      "4         1994.0  Paula Abdul's Get Up & Dance\n",
      "5         2004.0      The Rise and Fall of ECW\n",
      "6         1997.0                          Sick\n",
      "7         1992.0                         8 Man\n",
      "8         2004.0    What the #$*! Do We Know!?\n",
      "9         1991.0      Class of Nuke 'Em High 2\n",
      "10        2001.0                       Fighter\n"
     ]
    }
   ],
   "source": [
    "df_title = pd.read_csv(\"C:/Users/dhine/Desktop/ML/Projects/02 Self Project 1 - Netflix Recommendation/movie_titles.csv\", encoding = \"ISO-8859-1\", header = None,usecols=[0,1,2], names = ['Movie_Id', 'Year', 'Name'])\n",
    "df_title.set_index('Movie_Id', inplace = True)\n",
    "print (df_title.head(10))"
   ]
  },
  {
   "cell_type": "code",
   "execution_count": 44,
   "id": "859b88f3-9518-4c6b-96f1-cec12a3fb572",
   "metadata": {},
   "outputs": [
    {
     "name": "stdout",
     "output_type": "stream",
     "text": [
      "Requirement already satisfied: scikit-surprise in c:\\users\\dhine\\anaconda3\\lib\\site-packages (1.1.4)\n",
      "Requirement already satisfied: joblib>=1.2.0 in c:\\users\\dhine\\anaconda3\\lib\\site-packages (from scikit-surprise) (1.2.0)\n",
      "Requirement already satisfied: numpy>=1.19.5 in c:\\users\\dhine\\anaconda3\\lib\\site-packages (from scikit-surprise) (1.26.4)\n",
      "Requirement already satisfied: scipy>=1.6.0 in c:\\users\\dhine\\anaconda3\\lib\\site-packages (from scikit-surprise) (1.11.4)\n"
     ]
    }
   ],
   "source": [
    "!pip install scikit-surprise"
   ]
  },
  {
   "cell_type": "code",
   "execution_count": 45,
   "id": "6c61df76-0c74-46c1-bdb5-5b522f855703",
   "metadata": {},
   "outputs": [],
   "source": [
    "#model building\n",
    "\n",
    "import math\n",
    "import seaborn as sns\n",
    "from surprise import Reader, Dataset, SVD\n",
    "from surprise.model_selection import cross_validate"
   ]
  },
  {
   "cell_type": "code",
   "execution_count": 46,
   "id": "7045a7ba-095a-4682-8664-ea36202627c8",
   "metadata": {},
   "outputs": [
    {
     "name": "stdout",
     "output_type": "stream",
     "text": [
      "Evaluating RMSE, MAE of algorithm SVD on 3 split(s).\n",
      "\n",
      "                  Fold 1  Fold 2  Fold 3  Mean    Std     \n",
      "RMSE (testset)    1.0009  0.9978  0.9944  0.9977  0.0026  \n",
      "MAE (testset)     0.8050  0.8028  0.8039  0.8039  0.0009  \n",
      "Fit time          1.22    1.21    1.20    1.21    0.01    \n",
      "Test time         0.30    0.39    0.41    0.37    0.05    \n"
     ]
    },
    {
     "data": {
      "text/plain": [
       "{'test_rmse': array([1.00087206, 0.9978157 , 0.99442427]),\n",
       " 'test_mae': array([0.80500498, 0.80278997, 0.80391804]),\n",
       " 'fit_time': (1.2199184894561768, 1.2088062763214111, 1.200361967086792),\n",
       " 'test_time': (0.30024242401123047, 0.3906362056732178, 0.40509676933288574)}"
      ]
     },
     "execution_count": 46,
     "metadata": {},
     "output_type": "execute_result"
    }
   ],
   "source": [
    "# Load Reader library\n",
    "reader=Reader()\n",
    "\n",
    "#we only work with top 100K rows for quick runtime\n",
    "data=Dataset.load_from_df(netflix_dataset[['Cust_Id','Movie_Id','Rating']][:100000], reader)\n",
    "\n",
    "svd=SVD()\n",
    "cross_validate(svd, data, measures=['RMSE','MAE'], cv=3, verbose=True)\n"
   ]
  },
  {
   "cell_type": "code",
   "execution_count": 47,
   "id": "0dd23c78-694a-418e-8c8c-c8f653b698ac",
   "metadata": {},
   "outputs": [
    {
     "data": {
      "text/html": [
       "<div>\n",
       "<style scoped>\n",
       "    .dataframe tbody tr th:only-of-type {\n",
       "        vertical-align: middle;\n",
       "    }\n",
       "\n",
       "    .dataframe tbody tr th {\n",
       "        vertical-align: top;\n",
       "    }\n",
       "\n",
       "    .dataframe thead th {\n",
       "        text-align: right;\n",
       "    }\n",
       "</style>\n",
       "<table border=\"1\" class=\"dataframe\">\n",
       "  <thead>\n",
       "    <tr style=\"text-align: right;\">\n",
       "      <th></th>\n",
       "      <th>Cust_Id</th>\n",
       "      <th>Rating</th>\n",
       "      <th>Movie_Id</th>\n",
       "    </tr>\n",
       "  </thead>\n",
       "  <tbody>\n",
       "    <tr>\n",
       "      <th>696</th>\n",
       "      <td>712664</td>\n",
       "      <td>5.0</td>\n",
       "      <td>3</td>\n",
       "    </tr>\n",
       "    <tr>\n",
       "      <th>697</th>\n",
       "      <td>1331154</td>\n",
       "      <td>4.0</td>\n",
       "      <td>3</td>\n",
       "    </tr>\n",
       "    <tr>\n",
       "      <th>698</th>\n",
       "      <td>2632461</td>\n",
       "      <td>3.0</td>\n",
       "      <td>3</td>\n",
       "    </tr>\n",
       "    <tr>\n",
       "      <th>699</th>\n",
       "      <td>44937</td>\n",
       "      <td>5.0</td>\n",
       "      <td>3</td>\n",
       "    </tr>\n",
       "    <tr>\n",
       "      <th>700</th>\n",
       "      <td>656399</td>\n",
       "      <td>4.0</td>\n",
       "      <td>3</td>\n",
       "    </tr>\n",
       "  </tbody>\n",
       "</table>\n",
       "</div>"
      ],
      "text/plain": [
       "     Cust_Id  Rating  Movie_Id\n",
       "696   712664     5.0         3\n",
       "697  1331154     4.0         3\n",
       "698  2632461     3.0         3\n",
       "699    44937     5.0         3\n",
       "700   656399     4.0         3"
      ]
     },
     "execution_count": 47,
     "metadata": {},
     "output_type": "execute_result"
    }
   ],
   "source": [
    "netflix_dataset.head()"
   ]
  },
  {
   "cell_type": "code",
   "execution_count": 48,
   "id": "f17ab8d7-2653-4ee7-bde4-add43084ef3f",
   "metadata": {},
   "outputs": [
    {
     "data": {
      "text/plain": [
       "Movie_Id\n",
       "3                       Character\n",
       "79                    The Killing\n",
       "175                Reservoir Dogs\n",
       "199               The Deer Hunter\n",
       "241            North by Northwest\n",
       "                  ...            \n",
       "3887    Aguirre: The Wrath of God\n",
       "4109              American Psycho\n",
       "4266    The Passion of the Christ\n",
       "4384             Dawn of the Dead\n",
       "4392             Army of Darkness\n",
       "Name: Name, Length: 84, dtype: object"
      ]
     },
     "execution_count": 48,
     "metadata": {},
     "output_type": "execute_result"
    }
   ],
   "source": [
    "##To find all the movies rated as 5 stars by user with userId = 712664\n",
    "\n",
    "dataset_712664=netflix_dataset[(netflix_dataset['Cust_Id'] ==712664)& (netflix_dataset['Rating']==5)]\n",
    "dataset_712664=dataset_712664.set_index('Movie_Id')\n",
    "dataset_712664=dataset_712664.join(df_title)['Name']\n",
    "dataset_712664"
   ]
  },
  {
   "cell_type": "code",
   "execution_count": 49,
   "id": "d19f38cf-8046-4591-a31e-06992c2c4320",
   "metadata": {},
   "outputs": [
    {
     "data": {
      "text/html": [
       "<div>\n",
       "<style scoped>\n",
       "    .dataframe tbody tr th:only-of-type {\n",
       "        vertical-align: middle;\n",
       "    }\n",
       "\n",
       "    .dataframe tbody tr th {\n",
       "        vertical-align: top;\n",
       "    }\n",
       "\n",
       "    .dataframe thead th {\n",
       "        text-align: right;\n",
       "    }\n",
       "</style>\n",
       "<table border=\"1\" class=\"dataframe\">\n",
       "  <thead>\n",
       "    <tr style=\"text-align: right;\">\n",
       "      <th></th>\n",
       "      <th>Year</th>\n",
       "      <th>Name</th>\n",
       "    </tr>\n",
       "    <tr>\n",
       "      <th>Movie_Id</th>\n",
       "      <th></th>\n",
       "      <th></th>\n",
       "    </tr>\n",
       "  </thead>\n",
       "  <tbody>\n",
       "    <tr>\n",
       "      <th>1</th>\n",
       "      <td>2003.0</td>\n",
       "      <td>Dinosaur Planet</td>\n",
       "    </tr>\n",
       "    <tr>\n",
       "      <th>2</th>\n",
       "      <td>2004.0</td>\n",
       "      <td>Isle of Man TT 2004 Review</td>\n",
       "    </tr>\n",
       "    <tr>\n",
       "      <th>3</th>\n",
       "      <td>1997.0</td>\n",
       "      <td>Character</td>\n",
       "    </tr>\n",
       "    <tr>\n",
       "      <th>4</th>\n",
       "      <td>1994.0</td>\n",
       "      <td>Paula Abdul's Get Up &amp; Dance</td>\n",
       "    </tr>\n",
       "    <tr>\n",
       "      <th>5</th>\n",
       "      <td>2004.0</td>\n",
       "      <td>The Rise and Fall of ECW</td>\n",
       "    </tr>\n",
       "    <tr>\n",
       "      <th>...</th>\n",
       "      <td>...</td>\n",
       "      <td>...</td>\n",
       "    </tr>\n",
       "    <tr>\n",
       "      <th>17766</th>\n",
       "      <td>2002.0</td>\n",
       "      <td>Where the Wild Things Are and Other Maurice Se...</td>\n",
       "    </tr>\n",
       "    <tr>\n",
       "      <th>17767</th>\n",
       "      <td>2004.0</td>\n",
       "      <td>Fidel Castro: American Experience</td>\n",
       "    </tr>\n",
       "    <tr>\n",
       "      <th>17768</th>\n",
       "      <td>2000.0</td>\n",
       "      <td>Epoch</td>\n",
       "    </tr>\n",
       "    <tr>\n",
       "      <th>17769</th>\n",
       "      <td>2003.0</td>\n",
       "      <td>The Company</td>\n",
       "    </tr>\n",
       "    <tr>\n",
       "      <th>17770</th>\n",
       "      <td>2003.0</td>\n",
       "      <td>Alien Hunter</td>\n",
       "    </tr>\n",
       "  </tbody>\n",
       "</table>\n",
       "<p>17770 rows × 2 columns</p>\n",
       "</div>"
      ],
      "text/plain": [
       "            Year                                               Name\n",
       "Movie_Id                                                           \n",
       "1         2003.0                                    Dinosaur Planet\n",
       "2         2004.0                         Isle of Man TT 2004 Review\n",
       "3         1997.0                                          Character\n",
       "4         1994.0                       Paula Abdul's Get Up & Dance\n",
       "5         2004.0                           The Rise and Fall of ECW\n",
       "...          ...                                                ...\n",
       "17766     2002.0  Where the Wild Things Are and Other Maurice Se...\n",
       "17767     2004.0                  Fidel Castro: American Experience\n",
       "17768     2000.0                                              Epoch\n",
       "17769     2003.0                                        The Company\n",
       "17770     2003.0                                       Alien Hunter\n",
       "\n",
       "[17770 rows x 2 columns]"
      ]
     },
     "execution_count": 49,
     "metadata": {},
     "output_type": "execute_result"
    }
   ],
   "source": [
    "df_title"
   ]
  },
  {
   "cell_type": "code",
   "execution_count": 50,
   "id": "0fcd3ffc-809d-4ae1-8939-4bd4ae39f44e",
   "metadata": {},
   "outputs": [
    {
     "data": {
      "text/html": [
       "<div>\n",
       "<style scoped>\n",
       "    .dataframe tbody tr th:only-of-type {\n",
       "        vertical-align: middle;\n",
       "    }\n",
       "\n",
       "    .dataframe tbody tr th {\n",
       "        vertical-align: top;\n",
       "    }\n",
       "\n",
       "    .dataframe thead th {\n",
       "        text-align: right;\n",
       "    }\n",
       "</style>\n",
       "<table border=\"1\" class=\"dataframe\">\n",
       "  <thead>\n",
       "    <tr style=\"text-align: right;\">\n",
       "      <th></th>\n",
       "      <th>Year</th>\n",
       "      <th>Name</th>\n",
       "    </tr>\n",
       "    <tr>\n",
       "      <th>Movie_Id</th>\n",
       "      <th></th>\n",
       "      <th></th>\n",
       "    </tr>\n",
       "  </thead>\n",
       "  <tbody>\n",
       "    <tr>\n",
       "      <th>1</th>\n",
       "      <td>2003.0</td>\n",
       "      <td>Dinosaur Planet</td>\n",
       "    </tr>\n",
       "    <tr>\n",
       "      <th>2</th>\n",
       "      <td>2004.0</td>\n",
       "      <td>Isle of Man TT 2004 Review</td>\n",
       "    </tr>\n",
       "    <tr>\n",
       "      <th>3</th>\n",
       "      <td>1997.0</td>\n",
       "      <td>Character</td>\n",
       "    </tr>\n",
       "    <tr>\n",
       "      <th>4</th>\n",
       "      <td>1994.0</td>\n",
       "      <td>Paula Abdul's Get Up &amp; Dance</td>\n",
       "    </tr>\n",
       "    <tr>\n",
       "      <th>5</th>\n",
       "      <td>2004.0</td>\n",
       "      <td>The Rise and Fall of ECW</td>\n",
       "    </tr>\n",
       "    <tr>\n",
       "      <th>...</th>\n",
       "      <td>...</td>\n",
       "      <td>...</td>\n",
       "    </tr>\n",
       "    <tr>\n",
       "      <th>17766</th>\n",
       "      <td>2002.0</td>\n",
       "      <td>Where the Wild Things Are and Other Maurice Se...</td>\n",
       "    </tr>\n",
       "    <tr>\n",
       "      <th>17767</th>\n",
       "      <td>2004.0</td>\n",
       "      <td>Fidel Castro: American Experience</td>\n",
       "    </tr>\n",
       "    <tr>\n",
       "      <th>17768</th>\n",
       "      <td>2000.0</td>\n",
       "      <td>Epoch</td>\n",
       "    </tr>\n",
       "    <tr>\n",
       "      <th>17769</th>\n",
       "      <td>2003.0</td>\n",
       "      <td>The Company</td>\n",
       "    </tr>\n",
       "    <tr>\n",
       "      <th>17770</th>\n",
       "      <td>2003.0</td>\n",
       "      <td>Alien Hunter</td>\n",
       "    </tr>\n",
       "  </tbody>\n",
       "</table>\n",
       "<p>17770 rows × 2 columns</p>\n",
       "</div>"
      ],
      "text/plain": [
       "            Year                                               Name\n",
       "Movie_Id                                                           \n",
       "1         2003.0                                    Dinosaur Planet\n",
       "2         2004.0                         Isle of Man TT 2004 Review\n",
       "3         1997.0                                          Character\n",
       "4         1994.0                       Paula Abdul's Get Up & Dance\n",
       "5         2004.0                           The Rise and Fall of ECW\n",
       "...          ...                                                ...\n",
       "17766     2002.0  Where the Wild Things Are and Other Maurice Se...\n",
       "17767     2004.0                  Fidel Castro: American Experience\n",
       "17768     2000.0                                              Epoch\n",
       "17769     2003.0                                        The Company\n",
       "17770     2003.0                                       Alien Hunter\n",
       "\n",
       "[17770 rows x 2 columns]"
      ]
     },
     "execution_count": 50,
     "metadata": {},
     "output_type": "execute_result"
    }
   ],
   "source": [
    "#now we will build the recommendation algorithm\n",
    "#first we will make a shallow copy of the movie_titles.csv file so that we can change\n",
    "#the values in the copied dataset, not in the actual dataset\n",
    "\n",
    "user_712664=df_title.copy()\n",
    "user_712664"
   ]
  },
  {
   "cell_type": "code",
   "execution_count": 51,
   "id": "f3ab4603-cd73-4244-b0c9-3e75985bbe81",
   "metadata": {},
   "outputs": [
    {
     "data": {
      "text/html": [
       "<div>\n",
       "<style scoped>\n",
       "    .dataframe tbody tr th:only-of-type {\n",
       "        vertical-align: middle;\n",
       "    }\n",
       "\n",
       "    .dataframe tbody tr th {\n",
       "        vertical-align: top;\n",
       "    }\n",
       "\n",
       "    .dataframe thead th {\n",
       "        text-align: right;\n",
       "    }\n",
       "</style>\n",
       "<table border=\"1\" class=\"dataframe\">\n",
       "  <thead>\n",
       "    <tr style=\"text-align: right;\">\n",
       "      <th></th>\n",
       "      <th>Movie_Id</th>\n",
       "      <th>Year</th>\n",
       "      <th>Name</th>\n",
       "    </tr>\n",
       "  </thead>\n",
       "  <tbody>\n",
       "    <tr>\n",
       "      <th>0</th>\n",
       "      <td>1</td>\n",
       "      <td>2003.0</td>\n",
       "      <td>Dinosaur Planet</td>\n",
       "    </tr>\n",
       "    <tr>\n",
       "      <th>1</th>\n",
       "      <td>2</td>\n",
       "      <td>2004.0</td>\n",
       "      <td>Isle of Man TT 2004 Review</td>\n",
       "    </tr>\n",
       "    <tr>\n",
       "      <th>2</th>\n",
       "      <td>3</td>\n",
       "      <td>1997.0</td>\n",
       "      <td>Character</td>\n",
       "    </tr>\n",
       "    <tr>\n",
       "      <th>3</th>\n",
       "      <td>4</td>\n",
       "      <td>1994.0</td>\n",
       "      <td>Paula Abdul's Get Up &amp; Dance</td>\n",
       "    </tr>\n",
       "    <tr>\n",
       "      <th>4</th>\n",
       "      <td>5</td>\n",
       "      <td>2004.0</td>\n",
       "      <td>The Rise and Fall of ECW</td>\n",
       "    </tr>\n",
       "    <tr>\n",
       "      <th>...</th>\n",
       "      <td>...</td>\n",
       "      <td>...</td>\n",
       "      <td>...</td>\n",
       "    </tr>\n",
       "    <tr>\n",
       "      <th>17765</th>\n",
       "      <td>17766</td>\n",
       "      <td>2002.0</td>\n",
       "      <td>Where the Wild Things Are and Other Maurice Se...</td>\n",
       "    </tr>\n",
       "    <tr>\n",
       "      <th>17766</th>\n",
       "      <td>17767</td>\n",
       "      <td>2004.0</td>\n",
       "      <td>Fidel Castro: American Experience</td>\n",
       "    </tr>\n",
       "    <tr>\n",
       "      <th>17767</th>\n",
       "      <td>17768</td>\n",
       "      <td>2000.0</td>\n",
       "      <td>Epoch</td>\n",
       "    </tr>\n",
       "    <tr>\n",
       "      <th>17768</th>\n",
       "      <td>17769</td>\n",
       "      <td>2003.0</td>\n",
       "      <td>The Company</td>\n",
       "    </tr>\n",
       "    <tr>\n",
       "      <th>17769</th>\n",
       "      <td>17770</td>\n",
       "      <td>2003.0</td>\n",
       "      <td>Alien Hunter</td>\n",
       "    </tr>\n",
       "  </tbody>\n",
       "</table>\n",
       "<p>17770 rows × 3 columns</p>\n",
       "</div>"
      ],
      "text/plain": [
       "       Movie_Id    Year                                               Name\n",
       "0             1  2003.0                                    Dinosaur Planet\n",
       "1             2  2004.0                         Isle of Man TT 2004 Review\n",
       "2             3  1997.0                                          Character\n",
       "3             4  1994.0                       Paula Abdul's Get Up & Dance\n",
       "4             5  2004.0                           The Rise and Fall of ECW\n",
       "...         ...     ...                                                ...\n",
       "17765     17766  2002.0  Where the Wild Things Are and Other Maurice Se...\n",
       "17766     17767  2004.0                  Fidel Castro: American Experience\n",
       "17767     17768  2000.0                                              Epoch\n",
       "17768     17769  2003.0                                        The Company\n",
       "17769     17770  2003.0                                       Alien Hunter\n",
       "\n",
       "[17770 rows x 3 columns]"
      ]
     },
     "execution_count": 51,
     "metadata": {},
     "output_type": "execute_result"
    }
   ],
   "source": [
    "user_712664=user_712664.reset_index()\n",
    "user_712664"
   ]
  },
  {
   "cell_type": "code",
   "execution_count": 52,
   "id": "85a33761-cc88-483c-b2e7-59903767777d",
   "metadata": {},
   "outputs": [
    {
     "data": {
      "text/html": [
       "<div>\n",
       "<style scoped>\n",
       "    .dataframe tbody tr th:only-of-type {\n",
       "        vertical-align: middle;\n",
       "    }\n",
       "\n",
       "    .dataframe tbody tr th {\n",
       "        vertical-align: top;\n",
       "    }\n",
       "\n",
       "    .dataframe thead th {\n",
       "        text-align: right;\n",
       "    }\n",
       "</style>\n",
       "<table border=\"1\" class=\"dataframe\">\n",
       "  <thead>\n",
       "    <tr style=\"text-align: right;\">\n",
       "      <th></th>\n",
       "      <th>Movie_Id</th>\n",
       "      <th>Year</th>\n",
       "      <th>Name</th>\n",
       "    </tr>\n",
       "  </thead>\n",
       "  <tbody>\n",
       "    <tr>\n",
       "      <th>2</th>\n",
       "      <td>3</td>\n",
       "      <td>1997.0</td>\n",
       "      <td>Character</td>\n",
       "    </tr>\n",
       "    <tr>\n",
       "      <th>7</th>\n",
       "      <td>8</td>\n",
       "      <td>2004.0</td>\n",
       "      <td>What the #$*! Do We Know!?</td>\n",
       "    </tr>\n",
       "    <tr>\n",
       "      <th>15</th>\n",
       "      <td>16</td>\n",
       "      <td>1996.0</td>\n",
       "      <td>Screamers</td>\n",
       "    </tr>\n",
       "    <tr>\n",
       "      <th>16</th>\n",
       "      <td>17</td>\n",
       "      <td>2005.0</td>\n",
       "      <td>7 Seconds</td>\n",
       "    </tr>\n",
       "    <tr>\n",
       "      <th>17</th>\n",
       "      <td>18</td>\n",
       "      <td>1994.0</td>\n",
       "      <td>Immortal Beloved</td>\n",
       "    </tr>\n",
       "    <tr>\n",
       "      <th>...</th>\n",
       "      <td>...</td>\n",
       "      <td>...</td>\n",
       "      <td>...</td>\n",
       "    </tr>\n",
       "    <tr>\n",
       "      <th>17765</th>\n",
       "      <td>17766</td>\n",
       "      <td>2002.0</td>\n",
       "      <td>Where the Wild Things Are and Other Maurice Se...</td>\n",
       "    </tr>\n",
       "    <tr>\n",
       "      <th>17766</th>\n",
       "      <td>17767</td>\n",
       "      <td>2004.0</td>\n",
       "      <td>Fidel Castro: American Experience</td>\n",
       "    </tr>\n",
       "    <tr>\n",
       "      <th>17767</th>\n",
       "      <td>17768</td>\n",
       "      <td>2000.0</td>\n",
       "      <td>Epoch</td>\n",
       "    </tr>\n",
       "    <tr>\n",
       "      <th>17768</th>\n",
       "      <td>17769</td>\n",
       "      <td>2003.0</td>\n",
       "      <td>The Company</td>\n",
       "    </tr>\n",
       "    <tr>\n",
       "      <th>17769</th>\n",
       "      <td>17770</td>\n",
       "      <td>2003.0</td>\n",
       "      <td>Alien Hunter</td>\n",
       "    </tr>\n",
       "  </tbody>\n",
       "</table>\n",
       "<p>14621 rows × 3 columns</p>\n",
       "</div>"
      ],
      "text/plain": [
       "       Movie_Id    Year                                               Name\n",
       "2             3  1997.0                                          Character\n",
       "7             8  2004.0                         What the #$*! Do We Know!?\n",
       "15           16  1996.0                                          Screamers\n",
       "16           17  2005.0                                          7 Seconds\n",
       "17           18  1994.0                                   Immortal Beloved\n",
       "...         ...     ...                                                ...\n",
       "17765     17766  2002.0  Where the Wild Things Are and Other Maurice Se...\n",
       "17766     17767  2004.0                  Fidel Castro: American Experience\n",
       "17767     17768  2000.0                                              Epoch\n",
       "17768     17769  2003.0                                        The Company\n",
       "17769     17770  2003.0                                       Alien Hunter\n",
       "\n",
       "[14621 rows x 3 columns]"
      ]
     },
     "execution_count": 52,
     "metadata": {},
     "output_type": "execute_result"
    }
   ],
   "source": [
    "user_712664=user_712664[~user_712664['Movie_Id'].isin(drop_movie_list)]\n",
    "user_712664"
   ]
  },
  {
   "cell_type": "code",
   "execution_count": 53,
   "id": "2521e3fc-63c6-4be6-87b7-d9f9cbf890bb",
   "metadata": {},
   "outputs": [],
   "source": [
    "user_712664['Estimate_Score']=user_712664['Movie_Id'].apply(lambda x: svd.predict(712664, x).est)\n",
    "user_712664=user_712664.drop('Movie_Id', axis=1)"
   ]
  },
  {
   "cell_type": "code",
   "execution_count": 54,
   "id": "9340a416-cc49-452c-a0d9-b3573cb2e910",
   "metadata": {},
   "outputs": [
    {
     "name": "stdout",
     "output_type": "stream",
     "text": [
      "        Year                        Name  Estimate_Score\n",
      "15    1996.0                   Screamers        3.079985\n",
      "25    2004.0             Never Die Alone        3.171315\n",
      "16    2005.0                   7 Seconds        3.288399\n",
      "7     2004.0  What the #$*! Do We Know!?        3.523610\n",
      "17    1994.0            Immortal Beloved        3.527713\n",
      "...      ...                         ...             ...\n",
      "8032  1992.0                 Bebe's Kids        3.761210\n",
      "8020  1980.0  Why Didn't They Ask Evans?        3.761210\n",
      "29    2003.0      Something's Gotta Give        3.904743\n",
      "2     1997.0                   Character        4.284208\n",
      "27    2002.0             Lilo and Stitch        4.290857\n",
      "\n",
      "[14621 rows x 3 columns]\n"
     ]
    }
   ],
   "source": [
    "user_712664=user_712664.sort_values('Estimate_Score')\n",
    "print(user_712664)"
   ]
  },
  {
   "cell_type": "code",
   "execution_count": 55,
   "id": "baefc19d-c8df-427d-aa82-c620a6cb968b",
   "metadata": {},
   "outputs": [
    {
     "name": "stdout",
     "output_type": "stream",
     "text": [
      "      Year                            Name  Estimate_Score\n",
      "27  2002.0                 Lilo and Stitch        4.290857\n",
      "2   1997.0                       Character        4.284208\n",
      "29  2003.0          Something's Gotta Give        3.904743\n",
      "76  1995.0                           Congo        3.761210\n",
      "43  1996.0                  Spitfire Grill        3.761210\n",
      "44  1999.0                 The Love Letter        3.761210\n",
      "45  1964.0  Rudolph the Red-Nosed Reindeer        3.761210\n",
      "46  1952.0       The Bad and the Beautiful        3.761210\n",
      "47  2001.0                  Justice League        3.761210\n",
      "51  2002.0         The Weather Underground        3.761210\n"
     ]
    }
   ],
   "source": [
    "user_712664=user_712664.sort_values('Estimate_Score', ascending=False)\n",
    "print(user_712664.head(10))"
   ]
  },
  {
   "cell_type": "code",
   "execution_count": 56,
   "id": "c8ffcb0b-07cd-4c9b-9b26-da77811cad04",
   "metadata": {},
   "outputs": [],
   "source": [
    "##Function to predict movies with high ratings for any user"
   ]
  },
  {
   "cell_type": "code",
   "execution_count": 57,
   "id": "feaa6cca-6e7e-4f16-b1a1-b8ff034c9009",
   "metadata": {},
   "outputs": [],
   "source": [
    "def predict_movies(userID):\n",
    "    userID = int(userID)\n",
    "    user = df_title.copy()\n",
    "    user = user.reset_index()\n",
    "    #Predict the ratings \n",
    "    user['Estimate_Score'] = user['Movie_Id'].apply(lambda x: svd.predict(userID, x).est)\n",
    "    #Drop extra columns from the user data frame\n",
    "    user = user.drop('Movie_Id', axis = 1)\n",
    "    # Sort predicted ratings in descending order\n",
    "    user = user.sort_values('Estimate_Score', ascending=False)\n",
    "    #Print top 10 recommendations\n",
    "    print(user.head(10))"
   ]
  },
  {
   "cell_type": "code",
   "execution_count": 58,
   "id": "0f2581d6-4f59-4979-aa0b-16d6112e26cd",
   "metadata": {},
   "outputs": [
    {
     "name": "stdout",
     "output_type": "stream",
     "text": [
      "         Year                                     Name  Estimate_Score\n",
      "27     2002.0                          Lilo and Stitch        3.788418\n",
      "17     1994.0                         Immortal Beloved        3.740296\n",
      "2      1997.0                                Character        3.677824\n",
      "29     2003.0                   Something's Gotta Give        3.675293\n",
      "11846  2005.0                            Dust to Glory        3.607692\n",
      "11851  1991.0                Return to the Blue Lagoon        3.607692\n",
      "11850  1946.0                             The Yearling        3.607692\n",
      "11849  2003.0  Dumb and Dumberer: When Harry Met Lloyd        3.607692\n",
      "11848  1998.0                                    Earth        3.607692\n",
      "11847  1997.0                     For Richer or Poorer        3.607692\n"
     ]
    }
   ],
   "source": [
    "predict_movies(9981)"
   ]
  },
  {
   "cell_type": "code",
   "execution_count": null,
   "id": "7cc0ec63-9207-453b-9fb9-890a277ca558",
   "metadata": {},
   "outputs": [],
   "source": []
  }
 ],
 "metadata": {
  "kernelspec": {
   "display_name": "Python 3 (ipykernel)",
   "language": "python",
   "name": "python3"
  },
  "language_info": {
   "codemirror_mode": {
    "name": "ipython",
    "version": 3
   },
   "file_extension": ".py",
   "mimetype": "text/x-python",
   "name": "python",
   "nbconvert_exporter": "python",
   "pygments_lexer": "ipython3",
   "version": "3.11.7"
  }
 },
 "nbformat": 4,
 "nbformat_minor": 5
}
